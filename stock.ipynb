{
 "cells": [
  {
   "cell_type": "code",
   "execution_count": 2,
   "id": "9b7510ca",
   "metadata": {},
   "outputs": [],
   "source": [
    "# 從網上載入股票數據\n",
    "import yfinance as yf\n",
    "df = yf.Ticker(\"2454.TW\").history(period=\"max\")\n",
    "df = df[df.notna()]"
   ]
  },
  {
   "cell_type": "code",
   "execution_count": 2,
   "id": "3cabe4e3",
   "metadata": {},
   "outputs": [],
   "source": [
    "# 提取資料庫數據\n",
    "datavalue = df.to_numpy()[:,:4]"
   ]
  },
  {
   "cell_type": "code",
   "execution_count": 3,
   "id": "a88b5955",
   "metadata": {},
   "outputs": [],
   "source": [
    "# 歸一化\n",
    "from sklearn import preprocessing\n",
    "for i in range(datavalue.shape[1]):\n",
    "    datavalue[:,i] = preprocessing.MinMaxScaler().fit_transform(datavalue[:,i].reshape(-1,1)).reshape(-1)"
   ]
  },
  {
   "cell_type": "code",
   "execution_count": 4,
   "id": "3b669689",
   "metadata": {},
   "outputs": [],
   "source": [
    "# 一次訓練參考的天數\n",
    "time_length = 40"
   ]
  },
  {
   "cell_type": "code",
   "execution_count": 5,
   "id": "ded4ac44",
   "metadata": {},
   "outputs": [],
   "source": [
    "# 將資料每20天一組，步長為 1 \n",
    "import numpy as np\n",
    "x_data, y_data = [], []\n",
    "for i in range(len(datavalue)-time_length):\n",
    "    x_data.append(datavalue[i:i+time_length])\n",
    "    y_data.append(datavalue[i+time_length])\n",
    "\n",
    "x_data = np.array(x_data, dtype=np.float64)\n",
    "y_data = np.array(y_data, dtype=np.float64)"
   ]
  },
  {
   "cell_type": "code",
   "execution_count": 6,
   "id": "cc665538",
   "metadata": {},
   "outputs": [],
   "source": [
    "# 測試集數量\n",
    "test_length = 100"
   ]
  },
  {
   "cell_type": "code",
   "execution_count": 7,
   "id": "0382ca46",
   "metadata": {},
   "outputs": [
    {
     "name": "stdout",
     "output_type": "stream",
     "text": [
      "x_train: (5014, 40, 4)\n",
      "y_train: (5014, 4)\n",
      "x_test: (100, 40, 4)\n",
      "y_test: (100, 4)\n"
     ]
    }
   ],
   "source": [
    "x_train = x_data[test_length:]\n",
    "y_train = y_data[test_length:]\n",
    "x_test = x_data[:test_length]\n",
    "y_test = y_data[:test_length]\n",
    "print('x_train:', x_train.shape)\n",
    "print('y_train:', y_train.shape)\n",
    "print('x_test:', x_test.shape)\n",
    "print('y_test:', y_test.shape)"
   ]
  },
  {
   "cell_type": "code",
   "execution_count": 8,
   "id": "a2521745",
   "metadata": {},
   "outputs": [],
   "source": [
    "# 對訓練集和測試集洗牌\n",
    "s1 = np.arange(len(x_data)-test_length)\n",
    "np.random.shuffle(s1)\n",
    "x_train_shuffle = x_train[s1]\n",
    "y_train_shuffle = y_train[s1]\n",
    "\n",
    "s2 = np.arange(test_length)\n",
    "np.random.shuffle(s2)\n",
    "x_test_shuffle = x_test[s2]\n",
    "y_test_shuffle = y_test[s2]"
   ]
  },
  {
   "cell_type": "code",
   "execution_count": 9,
   "id": "1ef48225",
   "metadata": {},
   "outputs": [],
   "source": [
    "# 建立模型\n",
    "import keras.layers as layers\n",
    "from keras.models import Model\n",
    "from tensorflow.keras.optimizers import SGD, Adam\n",
    "\n",
    "def build_model(time_length, lr):\n",
    "    \n",
    "    input_layer = layers.Input(shape=(time_length, 4))\n",
    "\n",
    "    # 第一層(LSTM)\n",
    "    layer1 = layers.LSTM(256, return_sequences=True)(input_layer)\n",
    "    layer1 = layers.Dropout(0.3)(layer1)\n",
    "\n",
    "    # 第二層(LSTM)\n",
    "    layer2 = layers.LSTM(256, return_sequences=False)(layer1)\n",
    "    layer2 = layers.Dropout(0.3)(layer2)\n",
    "\n",
    "    # 第三層(Dense)\n",
    "    layer3 = layers.Dense(16,kernel_initializer=\"uniform\",activation='relu')(layer2)\n",
    "\n",
    "    # 第四層(Dense)\n",
    "    layer4 = layers.Dense(4,kernel_initializer=\"uniform\",activation='linear')(layer3)\n",
    "\n",
    "    model = Model(inputs=input_layer, outputs=layer4)\n",
    "\n",
    "    opt = Adam(learning_rate=lr)\n",
    "    model.compile(loss='mse', optimizer=opt, metrics=['mae'])\n",
    "\n",
    "    return model       "
   ]
  },
  {
   "cell_type": "code",
   "execution_count": 10,
   "id": "11cc2da9",
   "metadata": {},
   "outputs": [],
   "source": [
    "#batch_size (批次量)和 epochs (訓練次數)\n",
    "batch_size = 128\n",
    "epochs = 100"
   ]
  },
  {
   "cell_type": "code",
   "execution_count": 11,
   "id": "7bd27d36",
   "metadata": {},
   "outputs": [],
   "source": [
    "# 學習速率為 0.001\n",
    "model = build_model(time_length, 0.001)"
   ]
  },
  {
   "cell_type": "code",
   "execution_count": 12,
   "id": "5cfe0e4c",
   "metadata": {},
   "outputs": [
    {
     "name": "stdout",
     "output_type": "stream",
     "text": [
      "Epoch 1/100\n",
      "40/40 [==============================] - 5s 24ms/step - loss: 0.0275 - mae: 0.0924\n",
      "Epoch 2/100\n",
      "40/40 [==============================] - 1s 23ms/step - loss: 7.3911e-04 - mae: 0.0170\n",
      "Epoch 3/100\n",
      "40/40 [==============================] - 1s 23ms/step - loss: 5.1851e-04 - mae: 0.0144\n",
      "Epoch 4/100\n",
      "40/40 [==============================] - 1s 25ms/step - loss: 6.7017e-04 - mae: 0.0162\n",
      "Epoch 5/100\n",
      "40/40 [==============================] - 1s 24ms/step - loss: 4.8522e-04 - mae: 0.0138\n",
      "Epoch 6/100\n",
      "40/40 [==============================] - 1s 22ms/step - loss: 4.4979e-04 - mae: 0.0131\n",
      "Epoch 7/100\n",
      "40/40 [==============================] - 1s 23ms/step - loss: 4.5140e-04 - mae: 0.0131\n",
      "Epoch 8/100\n",
      "40/40 [==============================] - 1s 23ms/step - loss: 4.9492e-04 - mae: 0.0136\n",
      "Epoch 9/100\n",
      "40/40 [==============================] - 1s 23ms/step - loss: 3.8409e-04 - mae: 0.0120\n",
      "Epoch 10/100\n",
      "40/40 [==============================] - 1s 23ms/step - loss: 4.0356e-04 - mae: 0.0122\n",
      "Epoch 11/100\n",
      "40/40 [==============================] - 1s 23ms/step - loss: 3.7304e-04 - mae: 0.0120\n",
      "Epoch 12/100\n",
      "40/40 [==============================] - 1s 22ms/step - loss: 3.6781e-04 - mae: 0.0117\n",
      "Epoch 13/100\n",
      "40/40 [==============================] - 1s 23ms/step - loss: 3.3601e-04 - mae: 0.0113\n",
      "Epoch 14/100\n",
      "40/40 [==============================] - 1s 24ms/step - loss: 3.4758e-04 - mae: 0.0115\n",
      "Epoch 15/100\n",
      "40/40 [==============================] - 1s 23ms/step - loss: 4.5687e-04 - mae: 0.0129\n",
      "Epoch 16/100\n",
      "40/40 [==============================] - 1s 23ms/step - loss: 4.1922e-04 - mae: 0.0126\n",
      "Epoch 17/100\n",
      "40/40 [==============================] - 1s 25ms/step - loss: 3.4584e-04 - mae: 0.0112\n",
      "Epoch 18/100\n",
      "40/40 [==============================] - 1s 24ms/step - loss: 3.1295e-04 - mae: 0.0107\n",
      "Epoch 19/100\n",
      "40/40 [==============================] - 1s 24ms/step - loss: 3.9019e-04 - mae: 0.0120\n",
      "Epoch 20/100\n",
      "40/40 [==============================] - 1s 23ms/step - loss: 3.0152e-04 - mae: 0.0106\n",
      "Epoch 21/100\n",
      "40/40 [==============================] - 1s 23ms/step - loss: 3.4602e-04 - mae: 0.0114\n",
      "Epoch 22/100\n",
      "40/40 [==============================] - 1s 23ms/step - loss: 5.9642e-04 - mae: 0.0147\n",
      "Epoch 23/100\n",
      "40/40 [==============================] - 1s 24ms/step - loss: 3.0304e-04 - mae: 0.0105\n",
      "Epoch 24/100\n",
      "40/40 [==============================] - 1s 22ms/step - loss: 2.9174e-04 - mae: 0.0106\n",
      "Epoch 25/100\n",
      "40/40 [==============================] - 1s 23ms/step - loss: 2.7916e-04 - mae: 0.0099\n",
      "Epoch 26/100\n",
      "40/40 [==============================] - 1s 24ms/step - loss: 3.6183e-04 - mae: 0.0113\n",
      "Epoch 27/100\n",
      "40/40 [==============================] - 1s 22ms/step - loss: 3.2543e-04 - mae: 0.0107\n",
      "Epoch 28/100\n",
      "40/40 [==============================] - 1s 23ms/step - loss: 2.8042e-04 - mae: 0.0099\n",
      "Epoch 29/100\n",
      "40/40 [==============================] - 1s 22ms/step - loss: 2.9020e-04 - mae: 0.0099\n",
      "Epoch 30/100\n",
      "40/40 [==============================] - 1s 22ms/step - loss: 3.2875e-04 - mae: 0.0108\n",
      "Epoch 31/100\n",
      "40/40 [==============================] - 1s 23ms/step - loss: 3.1405e-04 - mae: 0.0103\n",
      "Epoch 32/100\n",
      "40/40 [==============================] - 1s 24ms/step - loss: 2.6326e-04 - mae: 0.0098\n",
      "Epoch 33/100\n",
      "40/40 [==============================] - 1s 23ms/step - loss: 2.8955e-04 - mae: 0.0097\n",
      "Epoch 34/100\n",
      "40/40 [==============================] - 1s 22ms/step - loss: 2.5563e-04 - mae: 0.0094\n",
      "Epoch 35/100\n",
      "40/40 [==============================] - 1s 22ms/step - loss: 2.7812e-04 - mae: 0.0097\n",
      "Epoch 36/100\n",
      "40/40 [==============================] - 1s 22ms/step - loss: 2.5917e-04 - mae: 0.0100\n",
      "Epoch 37/100\n",
      "40/40 [==============================] - 1s 22ms/step - loss: 2.5513e-04 - mae: 0.0093\n",
      "Epoch 38/100\n",
      "40/40 [==============================] - 1s 22ms/step - loss: 3.6633e-04 - mae: 0.0111\n",
      "Epoch 39/100\n",
      "40/40 [==============================] - 1s 22ms/step - loss: 2.3782e-04 - mae: 0.0090\n",
      "Epoch 40/100\n",
      "40/40 [==============================] - 1s 22ms/step - loss: 2.3513e-04 - mae: 0.0089\n",
      "Epoch 41/100\n",
      "40/40 [==============================] - 1s 22ms/step - loss: 2.5196e-04 - mae: 0.0094\n",
      "Epoch 42/100\n",
      "40/40 [==============================] - 1s 22ms/step - loss: 2.5241e-04 - mae: 0.0092\n",
      "Epoch 43/100\n",
      "40/40 [==============================] - 1s 22ms/step - loss: 2.4183e-04 - mae: 0.0091\n",
      "Epoch 44/100\n",
      "40/40 [==============================] - 1s 22ms/step - loss: 2.3024e-04 - mae: 0.0089\n",
      "Epoch 45/100\n",
      "40/40 [==============================] - 1s 22ms/step - loss: 3.1436e-04 - mae: 0.0103\n",
      "Epoch 46/100\n",
      "40/40 [==============================] - 1s 22ms/step - loss: 2.3254e-04 - mae: 0.0088\n",
      "Epoch 47/100\n",
      "40/40 [==============================] - 1s 22ms/step - loss: 2.4848e-04 - mae: 0.0090\n",
      "Epoch 48/100\n",
      "40/40 [==============================] - 1s 22ms/step - loss: 2.6571e-04 - mae: 0.0095\n",
      "Epoch 49/100\n",
      "40/40 [==============================] - 1s 22ms/step - loss: 2.5152e-04 - mae: 0.0092\n",
      "Epoch 50/100\n",
      "40/40 [==============================] - 1s 22ms/step - loss: 2.6376e-04 - mae: 0.0092\n",
      "Epoch 51/100\n",
      "40/40 [==============================] - 1s 22ms/step - loss: 2.1377e-04 - mae: 0.0083\n",
      "Epoch 52/100\n",
      "40/40 [==============================] - 1s 22ms/step - loss: 2.3023e-04 - mae: 0.0087\n",
      "Epoch 53/100\n",
      "40/40 [==============================] - 1s 22ms/step - loss: 2.1886e-04 - mae: 0.0088\n",
      "Epoch 54/100\n",
      "40/40 [==============================] - 1s 22ms/step - loss: 2.0688e-04 - mae: 0.0084\n",
      "Epoch 55/100\n",
      "40/40 [==============================] - 1s 22ms/step - loss: 2.4297e-04 - mae: 0.0089\n",
      "Epoch 56/100\n",
      "40/40 [==============================] - 1s 22ms/step - loss: 2.2115e-04 - mae: 0.0084\n",
      "Epoch 57/100\n",
      "40/40 [==============================] - 1s 22ms/step - loss: 2.1820e-04 - mae: 0.0086\n",
      "Epoch 58/100\n",
      "40/40 [==============================] - 1s 22ms/step - loss: 2.6181e-04 - mae: 0.0095\n",
      "Epoch 59/100\n",
      "40/40 [==============================] - 1s 22ms/step - loss: 2.0240e-04 - mae: 0.0082\n",
      "Epoch 60/100\n",
      "40/40 [==============================] - 1s 22ms/step - loss: 2.2175e-04 - mae: 0.0084\n",
      "Epoch 61/100\n",
      "40/40 [==============================] - 1s 23ms/step - loss: 2.3290e-04 - mae: 0.0086\n",
      "Epoch 62/100\n",
      "40/40 [==============================] - 1s 22ms/step - loss: 2.4240e-04 - mae: 0.0086\n",
      "Epoch 63/100\n",
      "40/40 [==============================] - 1s 22ms/step - loss: 4.3665e-04 - mae: 0.0123\n",
      "Epoch 64/100\n",
      "40/40 [==============================] - 1s 23ms/step - loss: 3.6159e-04 - mae: 0.0105\n",
      "Epoch 65/100\n",
      "40/40 [==============================] - 1s 23ms/step - loss: 2.0363e-04 - mae: 0.0082\n",
      "Epoch 66/100\n",
      "40/40 [==============================] - 1s 22ms/step - loss: 1.9875e-04 - mae: 0.0079\n",
      "Epoch 67/100\n",
      "40/40 [==============================] - 1s 23ms/step - loss: 1.6982e-04 - mae: 0.0077\n",
      "Epoch 68/100\n",
      "40/40 [==============================] - 1s 22ms/step - loss: 1.7296e-04 - mae: 0.0076\n",
      "Epoch 69/100\n",
      "40/40 [==============================] - 1s 22ms/step - loss: 1.9451e-04 - mae: 0.0083\n",
      "Epoch 70/100\n",
      "40/40 [==============================] - 1s 22ms/step - loss: 1.8908e-04 - mae: 0.0079\n",
      "Epoch 71/100\n",
      "40/40 [==============================] - 1s 22ms/step - loss: 2.0602e-04 - mae: 0.0081\n",
      "Epoch 72/100\n",
      "40/40 [==============================] - 1s 22ms/step - loss: 1.9414e-04 - mae: 0.0080\n",
      "Epoch 73/100\n",
      "40/40 [==============================] - 1s 22ms/step - loss: 2.7942e-04 - mae: 0.0096\n",
      "Epoch 74/100\n",
      "40/40 [==============================] - 1s 22ms/step - loss: 1.9026e-04 - mae: 0.0079\n",
      "Epoch 75/100\n",
      "40/40 [==============================] - 1s 22ms/step - loss: 2.2321e-04 - mae: 0.0085\n",
      "Epoch 76/100\n",
      "40/40 [==============================] - 1s 22ms/step - loss: 1.9597e-04 - mae: 0.0081\n",
      "Epoch 77/100\n",
      "40/40 [==============================] - 1s 23ms/step - loss: 2.1161e-04 - mae: 0.0081\n",
      "Epoch 78/100\n",
      "40/40 [==============================] - 1s 22ms/step - loss: 1.9374e-04 - mae: 0.0080\n",
      "Epoch 79/100\n",
      "40/40 [==============================] - 1s 22ms/step - loss: 1.6580e-04 - mae: 0.0075\n",
      "Epoch 80/100\n",
      "40/40 [==============================] - 1s 22ms/step - loss: 1.6358e-04 - mae: 0.0074\n",
      "Epoch 81/100\n",
      "40/40 [==============================] - 1s 22ms/step - loss: 1.7457e-04 - mae: 0.0077\n",
      "Epoch 82/100\n",
      "40/40 [==============================] - 1s 22ms/step - loss: 1.7859e-04 - mae: 0.0077\n",
      "Epoch 83/100\n"
     ]
    },
    {
     "name": "stdout",
     "output_type": "stream",
     "text": [
      "40/40 [==============================] - 1s 22ms/step - loss: 2.0023e-04 - mae: 0.0081\n",
      "Epoch 84/100\n",
      "40/40 [==============================] - 1s 22ms/step - loss: 1.8456e-04 - mae: 0.0079\n",
      "Epoch 85/100\n",
      "40/40 [==============================] - 1s 22ms/step - loss: 1.7232e-04 - mae: 0.0075\n",
      "Epoch 86/100\n",
      "40/40 [==============================] - 1s 22ms/step - loss: 2.0570e-04 - mae: 0.0084\n",
      "Epoch 87/100\n",
      "40/40 [==============================] - 1s 22ms/step - loss: 2.2523e-04 - mae: 0.0084\n",
      "Epoch 88/100\n",
      "40/40 [==============================] - 1s 22ms/step - loss: 1.9767e-04 - mae: 0.0082\n",
      "Epoch 89/100\n",
      "40/40 [==============================] - 1s 22ms/step - loss: 3.2086e-04 - mae: 0.0102\n",
      "Epoch 90/100\n",
      "40/40 [==============================] - 1s 22ms/step - loss: 1.9145e-04 - mae: 0.0082\n",
      "Epoch 91/100\n",
      "40/40 [==============================] - 1s 22ms/step - loss: 1.8699e-04 - mae: 0.0080\n",
      "Epoch 92/100\n",
      "40/40 [==============================] - 1s 22ms/step - loss: 1.9751e-04 - mae: 0.0081\n",
      "Epoch 93/100\n",
      "40/40 [==============================] - 1s 23ms/step - loss: 1.7973e-04 - mae: 0.0079\n",
      "Epoch 94/100\n",
      "40/40 [==============================] - 1s 22ms/step - loss: 1.7436e-04 - mae: 0.0077\n",
      "Epoch 95/100\n",
      "40/40 [==============================] - 1s 22ms/step - loss: 2.0502e-04 - mae: 0.0084\n",
      "Epoch 96/100\n",
      "40/40 [==============================] - 1s 22ms/step - loss: 1.8090e-04 - mae: 0.0077\n",
      "Epoch 97/100\n",
      "40/40 [==============================] - 1s 23ms/step - loss: 1.9714e-04 - mae: 0.0081\n",
      "Epoch 98/100\n",
      "40/40 [==============================] - 1s 23ms/step - loss: 2.1464e-04 - mae: 0.0087\n",
      "Epoch 99/100\n",
      "40/40 [==============================] - 1s 23ms/step - loss: 1.5673e-04 - mae: 0.0076\n",
      "Epoch 100/100\n",
      "40/40 [==============================] - 1s 23ms/step - loss: 1.8723e-04 - mae: 0.0078\n"
     ]
    },
    {
     "data": {
      "text/plain": [
       "<keras.callbacks.History at 0x18fe6b092a0>"
      ]
     },
     "execution_count": 12,
     "metadata": {},
     "output_type": "execute_result"
    }
   ],
   "source": [
    "# 訓練模型\n",
    "model.fit(x_train_shuffle, y_train_shuffle, batch_size=batch_size, epochs=epochs)"
   ]
  },
  {
   "cell_type": "code",
   "execution_count": 14,
   "id": "5425d45f",
   "metadata": {},
   "outputs": [
    {
     "name": "stdout",
     "output_type": "stream",
     "text": [
      "4/4 [==============================] - 0s 5ms/step\n"
     ]
    },
    {
     "data": {
      "image/png": "[encoded data removed]",
      "text/plain": [
       "<Figure size 720x576 with 1 Axes>"
      ]
     },
     "metadata": {
      "needs_background": "light"
     },
     "output_type": "display_data"
    }
   ],
   "source": [
    "# 查看測試樣本的預測結果\n",
    "p = model.predict(x_test)\n",
    "plt.figure(figsize=(10,8))\n",
    "plt.plot(p[:,3], color='r', label='prediction')\n",
    "plt.plot(y_test[:,3], color='b', label='actual')\n",
    "plt.xlabel('time')\n",
    "plt.ylabel('stock price')\n",
    "plt.legend()\n",
    "plt.show()"
   ]
  },
  {
   "cell_type": "code",
   "execution_count": 15,
   "id": "12d55fe5",
   "metadata": {},
   "outputs": [],
   "source": [
    "# 用預測出來的結果預測之後的未來\n",
    "x_start = x_test[-7]\n",
    "x = x_start\n",
    "res = []\n",
    "for i in range(7):\n",
    "    p = model.predict(x.reshape(1,-1,4), verbose=0)\n",
    "    res.append(p)\n",
    "    x = np.concatenate((x[1:], p))\n",
    "\n",
    "res = np.array(res)"
   ]
  },
  {
   "cell_type": "code",
   "execution_count": 16,
   "id": "2d29e2c7",
   "metadata": {},
   "outputs": [
    {
     "data": {
      "image/png": "[encoded data removed]",
      "text/plain": [
       "<Figure size 720x576 with 1 Axes>"
      ]
     },
     "metadata": {
      "needs_background": "light"
     },
     "output_type": "display_data"
    }
   ],
   "source": [
    "plt.figure(figsize=(10,8))\n",
    "plt.plot(res[:,0,3], color='r', label='prediction')\n",
    "plt.plot(y_test[-7:,3], color='b', label='actual')\n",
    "plt.xlabel('time')\n",
    "plt.ylabel('stock price')\n",
    "plt.legend()\n",
    "plt.show()"
   ]
  },
  {
   "cell_type": "code",
   "execution_count": null,
   "id": "3abce80a",
   "metadata": {},
   "outputs": [],
   "source": []
  }
 ],
 "metadata": {
  "kernelspec": {
   "display_name": "numerical",
   "language": "python",
   "name": "numerical"
  },
  "language_info": {
   "codemirror_mode": {
    "name": "ipython",
    "version": 3
   },
   "file_extension": ".py",
   "mimetype": "text/x-python",
   "name": "python",
   "nbconvert_exporter": "python",
   "pygments_lexer": "ipython3",
   "version": "3.10.4"
  }
 },
 "nbformat": 4,
 "nbformat_minor": 5
}
